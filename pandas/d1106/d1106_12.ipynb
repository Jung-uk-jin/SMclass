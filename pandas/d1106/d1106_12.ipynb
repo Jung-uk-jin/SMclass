{
 "cells": [
  {
   "cell_type": "code",
   "execution_count": null,
   "metadata": {},
   "outputs": [
    {
     "data": {
      "text/plain": [
       "0    99\n",
       "2    91\n",
       "6    90\n",
       "Name: 수학, dtype: int64"
      ]
     },
     "execution_count": 4,
     "metadata": {},
     "output_type": "execute_result"
    }
   ],
   "source": [
    "import pandas as pd\n",
    "data={\n",
    "  '번호':[1,2,3,4,5,6,7],\n",
    "  '이름' : ['홍길동','유관순','이순신','강감찬','김구','김유신','홍길자'],\n",
    "  '국어':[100,80,90,60,100,80,100],\n",
    "  '영어':[100,80,90,65,100,80,100],\n",
    "  '수학':[99,85,91,67,84,71,90],\n",
    "  '합계':[299,245,271,192,284,231,290],\n",
    "  '평균':[99.67,81.67,00.33,64,94.67,77,96.67],\n",
    "  '등수':[0,0,0,0,0,0,0]\n",
    "}\n",
    "df = pd.DataFrame(data)\n",
    "\n",
    "df['수학'].min() #최소값\n",
    "df['수학'].max() #최대값\n",
    "df['수학'].nlargest(3) #최대값 입력한 숫자만큼 출력\n",
    "df['수학'].nsmallest(3) #최소값 입력한 숫자만큼 출력"
   ]
  },
  {
   "cell_type": "code",
   "execution_count": null,
   "metadata": {},
   "outputs": [
    {
     "data": {
      "text/html": [
       "<div>\n",
       "<style scoped>\n",
       "    .dataframe tbody tr th:only-of-type {\n",
       "        vertical-align: middle;\n",
       "    }\n",
       "\n",
       "    .dataframe tbody tr th {\n",
       "        vertical-align: top;\n",
       "    }\n",
       "\n",
       "    .dataframe thead th {\n",
       "        text-align: right;\n",
       "    }\n",
       "</style>\n",
       "<table border=\"1\" class=\"dataframe\">\n",
       "  <thead>\n",
       "    <tr style=\"text-align: right;\">\n",
       "      <th></th>\n",
       "      <th>지원번호</th>\n",
       "      <th>키</th>\n",
       "      <th>SM특기</th>\n",
       "    </tr>\n",
       "  </thead>\n",
       "  <tbody>\n",
       "    <tr>\n",
       "      <th>0</th>\n",
       "      <td>1번</td>\n",
       "      <td>197</td>\n",
       "      <td>Python</td>\n",
       "    </tr>\n",
       "    <tr>\n",
       "      <th>1</th>\n",
       "      <td>2번</td>\n",
       "      <td>184</td>\n",
       "      <td>Java</td>\n",
       "    </tr>\n",
       "    <tr>\n",
       "      <th>2</th>\n",
       "      <td>3번</td>\n",
       "      <td>168</td>\n",
       "      <td>JavaScript</td>\n",
       "    </tr>\n",
       "    <tr>\n",
       "      <th>3</th>\n",
       "      <td>4번</td>\n",
       "      <td>187</td>\n",
       "      <td></td>\n",
       "    </tr>\n",
       "    <tr>\n",
       "      <th>4</th>\n",
       "      <td>5번</td>\n",
       "      <td>188</td>\n",
       "      <td></td>\n",
       "    </tr>\n",
       "    <tr>\n",
       "      <th>5</th>\n",
       "      <td>6번</td>\n",
       "      <td>202</td>\n",
       "      <td>c</td>\n",
       "    </tr>\n",
       "    <tr>\n",
       "      <th>6</th>\n",
       "      <td>7번</td>\n",
       "      <td>188</td>\n",
       "      <td>Python</td>\n",
       "    </tr>\n",
       "    <tr>\n",
       "      <th>7</th>\n",
       "      <td>8번</td>\n",
       "      <td>190</td>\n",
       "      <td>c#</td>\n",
       "    </tr>\n",
       "  </tbody>\n",
       "</table>\n",
       "</div>"
      ],
      "text/plain": [
       "  지원번호    키        SM특기\n",
       "0   1번  197      Python\n",
       "1   2번  184        Java\n",
       "2   3번  168  JavaScript\n",
       "3   4번  187            \n",
       "4   5번  188            \n",
       "5   6번  202           c\n",
       "6   7번  188      Python\n",
       "7   8번  190          c#"
      ]
     },
     "execution_count": 14,
     "metadata": {},
     "output_type": "execute_result"
    }
   ],
   "source": [
    "df = pd.read_csv('score.csv')\n",
    "df['키']\n",
    "df[['키','이름']]\n",
    "df.columns[0] #컬럼명 0번쨰\n",
    "df.columns[2:5] # 컬럼명 슬라이싱\n",
    "df.columns[-1] # 컬럼의 마지막 데이터\n",
    "df[df.columns[[0,3,-1]]] #0번째 3번째 마지막 컬럼 데이터"
   ]
  }
 ],
 "metadata": {
  "kernelspec": {
   "display_name": "Python 3",
   "language": "python",
   "name": "python3"
  },
  "language_info": {
   "codemirror_mode": {
    "name": "ipython",
    "version": 3
   },
   "file_extension": ".py",
   "mimetype": "text/x-python",
   "name": "python",
   "nbconvert_exporter": "python",
   "pygments_lexer": "ipython3",
   "version": "3.12.6"
  }
 },
 "nbformat": 4,
 "nbformat_minor": 2
}
