{
 "cells": [
  {
   "cell_type": "code",
   "execution_count": 7,
   "metadata": {},
   "outputs": [
    {
     "data": {
      "text/plain": [
       "6    273\n",
       "7    268\n",
       "8    252\n",
       "4    239\n",
       "2    237\n",
       "Name: 사고(건), dtype: int64"
      ]
     },
     "execution_count": 7,
     "metadata": {},
     "output_type": "execute_result"
    }
   ],
   "source": [
    "import pandas as pd\n",
    "\n",
    "df = pd.read_csv('2014년졸음운전교통사고.csv',encoding='euc-kr')\n",
    "df1 = pd.read_csv('2015년졸음운전교통사고.csv',encoding='euc-kr')\n",
    "df2 = pd.read_csv('2016년졸음운전교통사고.csv',encoding='euc-kr')\n",
    "fdd=pd.concat([df,df1,df2])\n",
    "fdd['사고(건)'].nlargest(5)\n"
   ]
  }
 ],
 "metadata": {
  "kernelspec": {
   "display_name": "Python 3",
   "language": "python",
   "name": "python3"
  },
  "language_info": {
   "codemirror_mode": {
    "name": "ipython",
    "version": 3
   },
   "file_extension": ".py",
   "mimetype": "text/x-python",
   "name": "python",
   "nbconvert_exporter": "python",
   "pygments_lexer": "ipython3",
   "version": "3.12.6"
  }
 },
 "nbformat": 4,
 "nbformat_minor": 2
}
