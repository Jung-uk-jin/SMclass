{
 "cells": [
  {
   "cell_type": "code",
   "execution_count": null,
   "metadata": {},
   "outputs": [
    {
     "name": "stdout",
     "output_type": "stream",
     "text": [
      "<class 'pandas.core.frame.DataFrame'>\n",
      "Index: 18 entries, 전국   to 제주특별자치도  \n",
      "Columns: 208 entries, 행정기관코드 to 100세 이상.8\n",
      "dtypes: int64(1), object(207)\n",
      "memory usage: 29.9+ KB\n"
     ]
    },
    {
     "name": "stderr",
     "output_type": "stream",
     "text": [
      "c:\\Users\\kosmo\\AppData\\Local\\Programs\\Python\\Python312\\Lib\\site-packages\\openpyxl\\styles\\stylesheet.py:237: UserWarning: Workbook contains no default style, apply openpyxl's default\n",
      "  warn(\"Workbook contains no default style, apply openpyxl's default\")\n"
     ]
    },
    {
     "data": {
      "text/plain": [
       "행정기관\n",
       "전국           678,966\n",
       "서울특별시        108,980\n",
       "부산광역시         38,448\n",
       "대구광역시         29,446\n",
       "인천광역시         42,297\n",
       "광주광역시         19,610\n",
       "대전광역시         20,346\n",
       "울산광역시         15,166\n",
       "세종특별자치시        8,624\n",
       "경기도          204,419\n",
       "강원특별자치도       19,483\n",
       "충청북도          21,237\n",
       "충청남도          29,179\n",
       "전북특별자치도       19,613\n",
       "전라남도          21,937\n",
       "경상북도          30,258\n",
       "경상남도          39,927\n",
       "제주특별자치도        9,996\n",
       "Name: 0~4세.1, dtype: object"
      ]
     },
     "execution_count": 13,
     "metadata": {},
     "output_type": "execute_result"
    }
   ],
   "source": [
    "import pandas as pd\n",
    "df = pd.read_excel(\"연령별인구현황01.xlsx\",skiprows=3,index_col='행정기관')\n",
    "df.tail()\n",
    "df.loc['전국  ']\n",
    "df.info()\n",
    "df.columns\n",
    "df['0~4세.1']\n",
    "df_w = pd.read_excel(\"연령별인구현황01.xlsx\",skiprows=3,index_col='행정기관')"
   ]
  }
 ],
 "metadata": {
  "kernelspec": {
   "display_name": "Python 3",
   "language": "python",
   "name": "python3"
  },
  "language_info": {
   "codemirror_mode": {
    "name": "ipython",
    "version": 3
   },
   "file_extension": ".py",
   "mimetype": "text/x-python",
   "name": "python",
   "nbconvert_exporter": "python",
   "pygments_lexer": "ipython3",
   "version": "3.12.6"
  }
 },
 "nbformat": 4,
 "nbformat_minor": 2
}
